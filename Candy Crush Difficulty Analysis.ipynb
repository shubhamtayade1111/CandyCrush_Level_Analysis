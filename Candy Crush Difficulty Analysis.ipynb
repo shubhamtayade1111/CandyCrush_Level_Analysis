{
 "cells": [
  {
   "cell_type": "markdown",
   "id": "6bb36fd7",
   "metadata": {
    "dc": {
     "key": "3"
    },
    "deletable": false,
    "editable": false,
    "run_control": {
     "frozen": true
    },
    "tags": [
     "context"
    ]
   },
   "source": [
    "## 1. Candy Crush Saga : Loading Libraries \n"
   ]
  },
  {
   "cell_type": "code",
   "execution_count": null,
   "id": "95a79585",
   "metadata": {
    "collapsed": true,
    "dc": {
     "key": "3"
    },
    "jupyter": {
     "outputs_hidden": true
    },
    "tags": [
     "sample_code"
    ]
   },
   "outputs": [],
   "source": [
    "# This sets the size of plots to a good default.\n",
    "options(repr.plot.width = 5, repr.plot.height = 4)\n",
    "\n",
    "# Loading in packages\n",
    "library(dplyr)\n",
    "library(ggplot2)\n",
    "library(readr)"
   ]
  },
  {
   "cell_type": "markdown",
   "id": "e0cb491f",
   "metadata": {
    "dc": {
     "key": "10"
    },
    "deletable": false,
    "editable": false,
    "jp-MarkdownHeadingCollapsed": true,
    "run_control": {
     "frozen": true
    },
    "tags": [
     "context"
    ]
   },
   "source": [
    "## 2. The data set\n",
    "<p>The dataset we will use contains one week of data from a sample of players who played Candy Crush back in 2014. The data is also from a single <em>episode</em>, that is, a set of 15 levels. It has the following columns:</p>\n",
    "<ul>\n",
    "<li><strong>player_id</strong>: a unique player id</li>\n",
    "<li><strong>dt</strong>: the date</li>\n",
    "<li><strong>level</strong>: the level number within the episode, from 1 to 15.</li>\n",
    "<li><strong>num_attempts</strong>: number of level attempts for the player on that level and date.</li>\n",
    "<li><strong>num_success</strong>: number of level attempts that resulted in a success/win for the player on that level and date.</li>\n",
    "</ul>\n"
   ]
  },
  {
   "cell_type": "code",
   "execution_count": null,
   "id": "9d7aa835",
   "metadata": {
    "dc": {
     "key": "10"
    },
    "tags": [
     "sample_code"
    ]
   },
   "outputs": [
    {
     "name": "stderr",
     "output_type": "stream",
     "text": [
      "\u001b[1mRows: \u001b[22m\u001b[34m16865\u001b[39m \u001b[1mColumns: \u001b[22m\u001b[34m5\u001b[39m\n",
      "\u001b[36m──\u001b[39m \u001b[1mColumn specification\u001b[22m \u001b[36m────────────────────────────────────────────────────────\u001b[39m\n",
      "\u001b[1mDelimiter:\u001b[22m \",\"\n",
      "\u001b[31mchr\u001b[39m  (1): player_id\n",
      "\u001b[32mdbl\u001b[39m  (3): level, num_attempts, num_success\n",
      "\u001b[34mdate\u001b[39m (1): dt\n",
      "\n",
      "\u001b[36mℹ\u001b[39m Use `spec()` to retrieve the full column specification for this data.\n",
      "\u001b[36mℹ\u001b[39m Specify the column types or set `show_col_types = FALSE` to quiet this message.\n"
     ]
    },
    {
     "data": {
      "application/com.datacamp.data-table.v1+json": {
       "is_truncated": false,
       "table": {
        "data": [
         {
          "dt": "2014-01-04",
          "index": "1",
          "level": 4,
          "num_attempts": 3,
          "num_success": 1,
          "player_id": "6dd5af4c7228fa353d505767143f5815"
         },
         {
          "dt": "2014-01-01",
          "index": "2",
          "level": 8,
          "num_attempts": 4,
          "num_success": 1,
          "player_id": "c7ec97c39349ab7e4d39b4f74062ec13"
         },
         {
          "dt": "2014-01-05",
          "index": "3",
          "level": 12,
          "num_attempts": 6,
          "num_success": 0,
          "player_id": "c7ec97c39349ab7e4d39b4f74062ec13"
         },
         {
          "dt": "2014-01-03",
          "index": "4",
          "level": 11,
          "num_attempts": 1,
          "num_success": 1,
          "player_id": "a32c5e9700ed356dc8dd5bb3230c5227"
         },
         {
          "dt": "2014-01-07",
          "index": "5",
          "level": 15,
          "num_attempts": 6,
          "num_success": 0,
          "player_id": "a32c5e9700ed356dc8dd5bb3230c5227"
         },
         {
          "dt": "2014-01-01",
          "index": "6",
          "level": 8,
          "num_attempts": 8,
          "num_success": 1,
          "player_id": "b94d403ac4edf639442f93eeffdc7d92"
         }
        ],
        "schema": {
         "fields": [
          {
           "name": "index",
           "type": "string"
          },
          {
           "name": "player_id",
           "type": "string"
          },
          {
           "name": "dt",
           "type": "datetime"
          },
          {
           "name": "level",
           "type": "float"
          },
          {
           "name": "num_attempts",
           "type": "float"
          },
          {
           "name": "num_success",
           "type": "float"
          }
         ],
         "pandas_version": "0.20.0",
         "primaryKey": [
          "index"
         ]
        }
       },
       "total_rows": 6
      },
      "text/html": [
       "<table class=\"dataframe\">\n",
       "<caption>A tibble: 6 × 5</caption>\n",
       "<thead>\n",
       "\t<tr><th scope=col>player_id</th><th scope=col>dt</th><th scope=col>level</th><th scope=col>num_attempts</th><th scope=col>num_success</th></tr>\n",
       "\t<tr><th scope=col>&lt;chr&gt;</th><th scope=col>&lt;date&gt;</th><th scope=col>&lt;dbl&gt;</th><th scope=col>&lt;dbl&gt;</th><th scope=col>&lt;dbl&gt;</th></tr>\n",
       "</thead>\n",
       "<tbody>\n",
       "\t<tr><td>6dd5af4c7228fa353d505767143f5815</td><td>2014-01-04</td><td> 4</td><td>3</td><td>1</td></tr>\n",
       "\t<tr><td>c7ec97c39349ab7e4d39b4f74062ec13</td><td>2014-01-01</td><td> 8</td><td>4</td><td>1</td></tr>\n",
       "\t<tr><td>c7ec97c39349ab7e4d39b4f74062ec13</td><td>2014-01-05</td><td>12</td><td>6</td><td>0</td></tr>\n",
       "\t<tr><td>a32c5e9700ed356dc8dd5bb3230c5227</td><td>2014-01-03</td><td>11</td><td>1</td><td>1</td></tr>\n",
       "\t<tr><td>a32c5e9700ed356dc8dd5bb3230c5227</td><td>2014-01-07</td><td>15</td><td>6</td><td>0</td></tr>\n",
       "\t<tr><td>b94d403ac4edf639442f93eeffdc7d92</td><td>2014-01-01</td><td> 8</td><td>8</td><td>1</td></tr>\n",
       "</tbody>\n",
       "</table>\n"
      ],
      "text/latex": [
       "A tibble: 6 × 5\n",
       "\\begin{tabular}{lllll}\n",
       " player\\_id & dt & level & num\\_attempts & num\\_success\\\\\n",
       " <chr> & <date> & <dbl> & <dbl> & <dbl>\\\\\n",
       "\\hline\n",
       "\t 6dd5af4c7228fa353d505767143f5815 & 2014-01-04 &  4 & 3 & 1\\\\\n",
       "\t c7ec97c39349ab7e4d39b4f74062ec13 & 2014-01-01 &  8 & 4 & 1\\\\\n",
       "\t c7ec97c39349ab7e4d39b4f74062ec13 & 2014-01-05 & 12 & 6 & 0\\\\\n",
       "\t a32c5e9700ed356dc8dd5bb3230c5227 & 2014-01-03 & 11 & 1 & 1\\\\\n",
       "\t a32c5e9700ed356dc8dd5bb3230c5227 & 2014-01-07 & 15 & 6 & 0\\\\\n",
       "\t b94d403ac4edf639442f93eeffdc7d92 & 2014-01-01 &  8 & 8 & 1\\\\\n",
       "\\end{tabular}\n"
      ],
      "text/markdown": [
       "\n",
       "A tibble: 6 × 5\n",
       "\n",
       "| player_id &lt;chr&gt; | dt &lt;date&gt; | level &lt;dbl&gt; | num_attempts &lt;dbl&gt; | num_success &lt;dbl&gt; |\n",
       "|---|---|---|---|---|\n",
       "| 6dd5af4c7228fa353d505767143f5815 | 2014-01-04 |  4 | 3 | 1 |\n",
       "| c7ec97c39349ab7e4d39b4f74062ec13 | 2014-01-01 |  8 | 4 | 1 |\n",
       "| c7ec97c39349ab7e4d39b4f74062ec13 | 2014-01-05 | 12 | 6 | 0 |\n",
       "| a32c5e9700ed356dc8dd5bb3230c5227 | 2014-01-03 | 11 | 1 | 1 |\n",
       "| a32c5e9700ed356dc8dd5bb3230c5227 | 2014-01-07 | 15 | 6 | 0 |\n",
       "| b94d403ac4edf639442f93eeffdc7d92 | 2014-01-01 |  8 | 8 | 1 |\n",
       "\n"
      ],
      "text/plain": [
       "  player_id                        dt         level num_attempts num_success\n",
       "1 6dd5af4c7228fa353d505767143f5815 2014-01-04  4    3            1          \n",
       "2 c7ec97c39349ab7e4d39b4f74062ec13 2014-01-01  8    4            1          \n",
       "3 c7ec97c39349ab7e4d39b4f74062ec13 2014-01-05 12    6            0          \n",
       "4 a32c5e9700ed356dc8dd5bb3230c5227 2014-01-03 11    1            1          \n",
       "5 a32c5e9700ed356dc8dd5bb3230c5227 2014-01-07 15    6            0          \n",
       "6 b94d403ac4edf639442f93eeffdc7d92 2014-01-01  8    8            1          "
      ]
     },
     "metadata": {},
     "output_type": "display_data"
    }
   ],
   "source": [
    "# Reading in the data\n",
    "data <- read_csv(\"datasets/candy_crush.csv\")\n",
    "\n",
    "# Printing out the first six rows\n",
    "head(data)"
   ]
  },
  {
   "cell_type": "markdown",
   "id": "f4fb3534",
   "metadata": {
    "dc": {
     "key": "17"
    },
    "deletable": false,
    "editable": false,
    "run_control": {
     "frozen": true
    },
    "tags": [
     "context"
    ]
   },
   "source": [
    "## 3. Checking the data set\n",
    "Counting how many players we have in the sample and how old is our data.</p>"
   ]
  },
  {
   "cell_type": "code",
   "execution_count": null,
   "id": "80706847",
   "metadata": {
    "dc": {
     "key": "17"
    },
    "tags": [
     "sample_code"
    ]
   },
   "outputs": [
    {
     "name": "stdout",
     "output_type": "stream",
     "text": [
      "[1] \"Number of players:\"\n"
     ]
    },
    {
     "data": {
      "text/html": [
       "6814"
      ],
      "text/latex": [
       "6814"
      ],
      "text/markdown": [
       "6814"
      ],
      "text/plain": [
       "[1] 6814"
      ]
     },
     "metadata": {},
     "output_type": "display_data"
    },
    {
     "name": "stdout",
     "output_type": "stream",
     "text": [
      "[1] \"Period for which we have data:\"\n"
     ]
    },
    {
     "data": {
      "text/html": [
       "<style>\n",
       ".list-inline {list-style: none; margin:0; padding: 0}\n",
       ".list-inline>li {display: inline-block}\n",
       ".list-inline>li:not(:last-child)::after {content: \"\\00b7\"; padding: 0 .5ex}\n",
       "</style>\n",
       "<ol class=list-inline><li><time datetime=\"2014-01-01\">2014-01-01</time></li><li><time datetime=\"2014-01-07\">2014-01-07</time></li></ol>\n"
      ],
      "text/latex": [
       "\\begin{enumerate*}\n",
       "\\item 2014-01-01\n",
       "\\item 2014-01-07\n",
       "\\end{enumerate*}\n"
      ],
      "text/markdown": [
       "1. 2014-01-01\n",
       "2. 2014-01-07\n",
       "\n",
       "\n"
      ],
      "text/plain": [
       "[1] \"2014-01-01\" \"2014-01-07\""
      ]
     },
     "metadata": {},
     "output_type": "display_data"
    }
   ],
   "source": [
    "# Count and display the number of unique players\n",
    "print(\"Number of players:\")\n",
    "length(unique(data$player_id))\n",
    "\n",
    "# Display the date range of the data\n",
    "print(\"Period for which we have data:\")\n",
    "range(data$dt)"
   ]
  },
  {
   "cell_type": "markdown",
   "id": "6e166dcd",
   "metadata": {
    "dc": {
     "key": "24"
    },
    "deletable": false,
    "editable": false,
    "run_control": {
     "frozen": true
    },
    "tags": [
     "context"
    ]
   },
   "source": [
    "## 4. Computing level difficulty\n",
    "<p>Within each Candy Crush episode, there is a mix of easier and tougher levels. Luck and individual skill make the number of attempts required to pass a level different from player to player. The assumption is that difficult levels require more attempts on average than easier ones. That is, <em>the harder</em> a level is, <em>the lower</em> the probability to pass that level in a single attempt is.</p>\n",
    "<p>A simple approach to model this probability is as a <a href=\"https://en.wikipedia.org/wiki/Bernoulli_process\">Bernoulli process</a>; as a binary outcome (you either win or lose) characterized by a single parameter <em>p<sub>win</sub></em>: the probability of winning the level in a single attempt. This probability can be estimated for each level as:</p>\n",
    "<p><img src=\"https://assets.datacamp.com/production/project_139/img/latex1.png\" style=\"width:150px\"></p>\n",
    "<!-- $$p_{win} = \\frac{\\sum wins}{\\sum attempts}$$ -->\n",
    "<p>For example, let's say a level has been played 10 times and 2 of those attempts ended up in a victory. Then the probability of winning in a single attempt would be <em>p<sub>win</sub></em> = 2 / 10 = 20%.</p>\n",
    "<p>Now, let's compute the difficulty <em>p<sub>win</sub></em> separately for each of the 15 levels.</p>"
   ]
  },
  {
   "cell_type": "code",
   "execution_count": null,
   "id": "ffea0f35",
   "metadata": {
    "dc": {
     "key": "24"
    },
    "tags": [
     "sample_code"
    ]
   },
   "outputs": [
    {
     "data": {
      "application/com.datacamp.data-table.v1+json": {
       "is_truncated": false,
       "table": {
        "data": [
         {
          "attempts": 1322,
          "index": "1",
          "level": 1,
          "p_win": 0.6188,
          "wins": 818
         },
         {
          "attempts": 1285,
          "index": "2",
          "level": 2,
          "p_win": 0.5183,
          "wins": 666
         },
         {
          "attempts": 1546,
          "index": "3",
          "level": 3,
          "p_win": 0.4282,
          "wins": 662
         },
         {
          "attempts": 1893,
          "index": "4",
          "level": 4,
          "p_win": 0.3724,
          "wins": 705
         },
         {
          "attempts": 6937,
          "index": "5",
          "level": 5,
          "p_win": 0.0914,
          "wins": 634
         },
         {
          "attempts": 1591,
          "index": "6",
          "level": 6,
          "p_win": 0.4199,
          "wins": 668
         },
         {
          "attempts": 4526,
          "index": "7",
          "level": 7,
          "p_win": 0.1357,
          "wins": 614
         },
         {
          "attempts": 15816,
          "index": "8",
          "level": 8,
          "p_win": 0.0405,
          "wins": 641
         },
         {
          "attempts": 8241,
          "index": "9",
          "level": 9,
          "p_win": 0.0813,
          "wins": 670
         },
         {
          "attempts": 3282,
          "index": "10",
          "level": 10,
          "p_win": 0.188,
          "wins": 617
         },
         {
          "attempts": 5575,
          "index": "11",
          "level": 11,
          "p_win": 0.1082,
          "wins": 603
         },
         {
          "attempts": 6868,
          "index": "12",
          "level": 12,
          "p_win": 0.096,
          "wins": 659
         },
         {
          "attempts": 1327,
          "index": "13",
          "level": 13,
          "p_win": 0.517,
          "wins": 686
         },
         {
          "attempts": 2772,
          "index": "14",
          "level": 14,
          "p_win": 0.2803,
          "wins": 777
         },
         {
          "attempts": 30374,
          "index": "15",
          "level": 15,
          "p_win": 0.0381,
          "wins": 1157
         }
        ],
        "schema": {
         "fields": [
          {
           "name": "index",
           "type": "string"
          },
          {
           "name": "level",
           "type": "float"
          },
          {
           "name": "attempts",
           "type": "float"
          },
          {
           "name": "wins",
           "type": "float"
          },
          {
           "name": "p_win",
           "type": "float"
          }
         ],
         "pandas_version": "0.20.0",
         "primaryKey": [
          "index"
         ]
        }
       },
       "total_rows": 15
      },
      "text/html": [
       "<table class=\"dataframe\">\n",
       "<caption>A tibble: 15 × 4</caption>\n",
       "<thead>\n",
       "\t<tr><th scope=col>level</th><th scope=col>attempts</th><th scope=col>wins</th><th scope=col>p_win</th></tr>\n",
       "\t<tr><th scope=col>&lt;dbl&gt;</th><th scope=col>&lt;dbl&gt;</th><th scope=col>&lt;dbl&gt;</th><th scope=col>&lt;dbl&gt;</th></tr>\n",
       "</thead>\n",
       "<tbody>\n",
       "\t<tr><td> 1</td><td> 1322</td><td> 818</td><td>0.61875946</td></tr>\n",
       "\t<tr><td> 2</td><td> 1285</td><td> 666</td><td>0.51828794</td></tr>\n",
       "\t<tr><td> 3</td><td> 1546</td><td> 662</td><td>0.42820181</td></tr>\n",
       "\t<tr><td> 4</td><td> 1893</td><td> 705</td><td>0.37242472</td></tr>\n",
       "\t<tr><td> 5</td><td> 6937</td><td> 634</td><td>0.09139397</td></tr>\n",
       "\t<tr><td> 6</td><td> 1591</td><td> 668</td><td>0.41986172</td></tr>\n",
       "\t<tr><td> 7</td><td> 4526</td><td> 614</td><td>0.13566063</td></tr>\n",
       "\t<tr><td> 8</td><td>15816</td><td> 641</td><td>0.04052858</td></tr>\n",
       "\t<tr><td> 9</td><td> 8241</td><td> 670</td><td>0.08130081</td></tr>\n",
       "\t<tr><td>10</td><td> 3282</td><td> 617</td><td>0.18799512</td></tr>\n",
       "\t<tr><td>11</td><td> 5575</td><td> 603</td><td>0.10816143</td></tr>\n",
       "\t<tr><td>12</td><td> 6868</td><td> 659</td><td>0.09595224</td></tr>\n",
       "\t<tr><td>13</td><td> 1327</td><td> 686</td><td>0.51695554</td></tr>\n",
       "\t<tr><td>14</td><td> 2772</td><td> 777</td><td>0.28030303</td></tr>\n",
       "\t<tr><td>15</td><td>30374</td><td>1157</td><td>0.03809179</td></tr>\n",
       "</tbody>\n",
       "</table>\n"
      ],
      "text/latex": [
       "A tibble: 15 × 4\n",
       "\\begin{tabular}{llll}\n",
       " level & attempts & wins & p\\_win\\\\\n",
       " <dbl> & <dbl> & <dbl> & <dbl>\\\\\n",
       "\\hline\n",
       "\t  1 &  1322 &  818 & 0.61875946\\\\\n",
       "\t  2 &  1285 &  666 & 0.51828794\\\\\n",
       "\t  3 &  1546 &  662 & 0.42820181\\\\\n",
       "\t  4 &  1893 &  705 & 0.37242472\\\\\n",
       "\t  5 &  6937 &  634 & 0.09139397\\\\\n",
       "\t  6 &  1591 &  668 & 0.41986172\\\\\n",
       "\t  7 &  4526 &  614 & 0.13566063\\\\\n",
       "\t  8 & 15816 &  641 & 0.04052858\\\\\n",
       "\t  9 &  8241 &  670 & 0.08130081\\\\\n",
       "\t 10 &  3282 &  617 & 0.18799512\\\\\n",
       "\t 11 &  5575 &  603 & 0.10816143\\\\\n",
       "\t 12 &  6868 &  659 & 0.09595224\\\\\n",
       "\t 13 &  1327 &  686 & 0.51695554\\\\\n",
       "\t 14 &  2772 &  777 & 0.28030303\\\\\n",
       "\t 15 & 30374 & 1157 & 0.03809179\\\\\n",
       "\\end{tabular}\n"
      ],
      "text/markdown": [
       "\n",
       "A tibble: 15 × 4\n",
       "\n",
       "| level &lt;dbl&gt; | attempts &lt;dbl&gt; | wins &lt;dbl&gt; | p_win &lt;dbl&gt; |\n",
       "|---|---|---|---|\n",
       "|  1 |  1322 |  818 | 0.61875946 |\n",
       "|  2 |  1285 |  666 | 0.51828794 |\n",
       "|  3 |  1546 |  662 | 0.42820181 |\n",
       "|  4 |  1893 |  705 | 0.37242472 |\n",
       "|  5 |  6937 |  634 | 0.09139397 |\n",
       "|  6 |  1591 |  668 | 0.41986172 |\n",
       "|  7 |  4526 |  614 | 0.13566063 |\n",
       "|  8 | 15816 |  641 | 0.04052858 |\n",
       "|  9 |  8241 |  670 | 0.08130081 |\n",
       "| 10 |  3282 |  617 | 0.18799512 |\n",
       "| 11 |  5575 |  603 | 0.10816143 |\n",
       "| 12 |  6868 |  659 | 0.09595224 |\n",
       "| 13 |  1327 |  686 | 0.51695554 |\n",
       "| 14 |  2772 |  777 | 0.28030303 |\n",
       "| 15 | 30374 | 1157 | 0.03809179 |\n",
       "\n"
      ],
      "text/plain": [
       "   level attempts wins p_win     \n",
       "1   1     1322     818 0.61875946\n",
       "2   2     1285     666 0.51828794\n",
       "3   3     1546     662 0.42820181\n",
       "4   4     1893     705 0.37242472\n",
       "5   5     6937     634 0.09139397\n",
       "6   6     1591     668 0.41986172\n",
       "7   7     4526     614 0.13566063\n",
       "8   8    15816     641 0.04052858\n",
       "9   9     8241     670 0.08130081\n",
       "10 10     3282     617 0.18799512\n",
       "11 11     5575     603 0.10816143\n",
       "12 12     6868     659 0.09595224\n",
       "13 13     1327     686 0.51695554\n",
       "14 14     2772     777 0.28030303\n",
       "15 15    30374    1157 0.03809179"
      ]
     },
     "metadata": {},
     "output_type": "display_data"
    }
   ],
   "source": [
    "# Calculating level difficulty\n",
    "difficulty <- data %>%\n",
    "  group_by(level) %>%\n",
    "  summarise(attempts = sum(num_attempts), wins = sum(num_success)) %>%\n",
    "  mutate(p_win = wins / attempts)\n",
    "\n",
    "# Printing out the calculated difficulty\n",
    "difficulty"
   ]
  },
  {
   "cell_type": "markdown",
   "id": "6bc3daa3",
   "metadata": {
    "dc": {
     "key": "31"
    },
    "deletable": false,
    "editable": false,
    "run_control": {
     "frozen": true
    },
    "tags": [
     "context"
    ]
   },
   "source": [
    "## 5. Plotting difficulty profile\n",
    "Plotting a line graph with the levels on the X-axis and the difficulty (<em>p<sub>win</sub></em>) on the Y-axis."
   ]
  },
  {
   "cell_type": "code",
   "execution_count": null,
   "id": "df5efbae",
   "metadata": {
    "dc": {
     "key": "31"
    },
    "tags": [
     "sample_code"
    ]
   },
   "outputs": [
    {
     "data": {
      "image/png": "[encoded data removed]",
      "text/plain": [
       "plot without title"
      ]
     },
     "metadata": {
      "image/png": {
       "height": 240,
       "width": 300
      }
     },
     "output_type": "display_data"
    }
   ],
   "source": [
    "# Plotting the level difficulty profile\n",
    "difficulty %>%\n",
    "  ggplot(aes(x = level, y = p_win)) + \n",
    "    geom_line() + \n",
    "    scale_x_continuous(breaks = 1:15) +\n",
    "    scale_y_continuous(label = scales::percent)"
   ]
  },
  {
   "cell_type": "markdown",
   "id": "dd914c7c",
   "metadata": {
    "dc": {
     "key": "38"
    },
    "deletable": false,
    "editable": false,
    "run_control": {
     "frozen": true
    },
    "tags": [
     "context"
    ]
   },
   "source": [
    "## 6. Spotting hard levels\n",
    "<p>Defining a threshold of difficulty, say 10%, and label levels with <em>p<sub>win</sub></em> &lt; 10% as <em>hard</em>. It's relatively easy to spot these hard levels on the plot, but we can make the plot more friendly by explicitly highlighting the hard levels.</p>"
   ]
  },
  {
   "cell_type": "code",
   "execution_count": null,
   "id": "f570e161",
   "metadata": {
    "dc": {
     "key": "38"
    },
    "tags": [
     "sample_code"
    ]
   },
   "outputs": [
    {
     "data": {
      "image/png": "[encoded data removed]",
      "text/plain": [
       "plot without title"
      ]
     },
     "metadata": {
      "image/png": {
       "height": 240,
       "width": 300
      }
     },
     "output_type": "display_data"
    }
   ],
   "source": [
    "# Adding points and a dashed line\n",
    "difficulty %>%\n",
    "  ggplot(aes(x = level, y = p_win)) + \n",
    "    geom_line() + geom_point() +\n",
    "    scale_x_continuous(breaks = 1:15) +\n",
    "    scale_y_continuous(label = scales::percent) +\n",
    "    geom_hline(yintercept = 0.1, linetype = 'dashed')"
   ]
  },
  {
   "cell_type": "markdown",
   "id": "26609ab5",
   "metadata": {
    "dc": {
     "key": "45"
    },
    "deletable": false,
    "editable": false,
    "run_control": {
     "frozen": true
    },
    "tags": [
     "context"
    ]
   },
   "source": [
    "## 7. Computing uncertainty\n",
    " </p>\n",
    "Using the <a href=\"https://en.wikipedia.org/wiki/Standard_error\"><em>Standard error</em></a> as a measure of uncertainty:</p>\n",
    "<p><img src=\"https://assets.datacamp.com/production/project_139/img/latex2.png\" style=\"width:115px\"></p>\n",
    "\n",
    "<p>Here <em>n</em> is the number of datapoints and <em>σ<sub>sample</sub></em> is the sample standard deviation. For a Bernoulli process, the sample standard deviation is: </p>\n",
    "<p><img src=\"https://assets.datacamp.com/production/project_139/img/latex3.png\" style=\"width:195px\"></p>\n",
    "<!-- $$\n",
    "\n",
    "\n",
    "<p>Calculate the standard error for each level.</p>"
   ]
  },
  {
   "cell_type": "code",
   "execution_count": null,
   "id": "a577ff26",
   "metadata": {
    "dc": {
     "key": "45"
    },
    "tags": [
     "sample_code"
    ]
   },
   "outputs": [],
   "source": [
    "# Computing the standard error of p_win for each level\n",
    "difficulty <- difficulty %>%\n",
    "  mutate(error = sqrt(p_win * (1 - p_win) / attempts))"
   ]
  },
  {
   "cell_type": "markdown",
   "id": "2b374d45",
   "metadata": {
    "dc": {
     "key": "52"
    },
    "deletable": false,
    "editable": false,
    "run_control": {
     "frozen": true
    },
    "tags": [
     "context"
    ]
   },
   "source": [
    "## 8. Showing uncertainty\n",
    "<p>Now that we have a measure of uncertainty for each levels' difficulty estimate let's use <em>error bars</em> to show this uncertainty in the plot. We will set the length of the error bars to one standard error. The upper limit and the lower limit of each error bar should then be <em>p<sub>win</sub></em> + <em>σ<sub>error</sub></em> and <em>p<sub>win</sub></em> - <em>σ<sub>error</sub></em>, respectively.</p>"
   ]
  },
  {
   "cell_type": "code",
   "execution_count": null,
   "id": "f9a5e243",
   "metadata": {
    "dc": {
     "key": "52"
    },
    "tags": [
     "sample_code"
    ]
   },
   "outputs": [
    {
     "data": {
      "image/png": "[encoded data removed]",
      "text/plain": [
       "plot without title"
      ]
     },
     "metadata": {
      "image/png": {
       "height": 240,
       "width": 300
      }
     },
     "output_type": "display_data"
    }
   ],
   "source": [
    "# Adding standard error bars\n",
    "difficulty %>%\n",
    "  ggplot(aes(x = level, y = p_win)) + \n",
    "    geom_line() + geom_point() +\n",
    "    scale_x_continuous(breaks = 1:15) +\n",
    "    scale_y_continuous(label = scales::percent) +\n",
    "    geom_hline(yintercept = 0.1, linetype = 'dashed') +\n",
    "    geom_errorbar(aes(ymin = p_win - error, ymax = p_win + error))"
   ]
  },
  {
   "cell_type": "markdown",
   "id": "480e163d",
   "metadata": {
    "dc": {
     "key": "59"
    },
    "deletable": false,
    "editable": false,
    "run_control": {
     "frozen": true
    },
    "tags": [
     "context"
    ]
   },
   "source": [
    "## 9. A final metric\n",
    "<p>It looks like our difficulty estimates are pretty precise! Using this plot, a level designer can quickly spot where the hard levels are and also see if there seems to be too many hard levels in the episode.</p>\n",
    "<p>One question a level designer might ask is: \"How likely is it that a player will complete the episode without losing a single time?\" Let's calculate this using the estimated level difficulties!</p>"
   ]
  },
  {
   "cell_type": "code",
   "execution_count": null,
   "id": "8d54bdea",
   "metadata": {
    "dc": {
     "key": "59"
    },
    "tags": [
     "sample_code"
    ]
   },
   "outputs": [
    {
     "data": {
      "text/html": [
       "9.44714093448606e-12"
      ],
      "text/latex": [
       "9.44714093448606e-12"
      ],
      "text/markdown": [
       "9.44714093448606e-12"
      ],
      "text/plain": [
       "[1] 9.447141e-12"
      ]
     },
     "metadata": {},
     "output_type": "display_data"
    }
   ],
   "source": [
    "# The probability of completing the episode without losing a single time\n",
    "p <- prod(difficulty$p_win)\n",
    "\n",
    "# Printing it out\n",
    "p"
   ]
  },
  {
   "cell_type": "markdown",
   "id": "9d95092b",
   "metadata": {
    "dc": {
     "key": "66"
    },
    "deletable": false,
    "editable": false,
    "run_control": {
     "frozen": true
    },
    "tags": [
     "context"
    ]
   },
   "source": [
    "## 10. Should our level designer worry?\n",
    "<p>Given the probability we just calculated, should our level designer worry about that a lot of players might complete the episode in one attempt?</p>"
   ]
  },
  {
   "cell_type": "code",
   "execution_count": null,
   "id": "7bf27e81",
   "metadata": {
    "collapsed": true,
    "dc": {
     "key": "66"
    },
    "jupyter": {
     "outputs_hidden": true
    },
    "tags": [
     "sample_code"
    ]
   },
   "outputs": [],
   "source": [
    "# Should our level designer worry about that a lot of \n",
    "# players will complete the episode in one attempt?\n",
    "should_the_designer_worry =  FALSE"
   ]
  }
 ],
 "metadata": {
  "editor": "DataCamp Workspace",
  "kernelspec": {
   "display_name": "R",
   "language": "R",
   "name": "ir"
  },
  "language_info": {
   "codemirror_mode": "r",
   "file_extension": ".r",
   "mimetype": "text/x-r-source",
   "name": "R",
   "pygments_lexer": "r",
   "version": "4.1.2"
  }
 },
 "nbformat": 4,
 "nbformat_minor": 5
}
